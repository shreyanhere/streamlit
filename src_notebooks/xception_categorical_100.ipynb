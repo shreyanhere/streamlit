{
  "cells": [
    {
      "cell_type": "code",
      "execution_count": 1,
      "metadata": {
        "id": "SedNsgcjwt0U",
        "colab": {
          "base_uri": "https://localhost:8080/"
        },
        "outputId": "d67103d2-9b00-47d0-db61-006256b3d89a"
      },
      "outputs": [
        {
          "metadata": {
            "tags": null
          },
          "name": "stdout",
          "output_type": "stream",
          "text": [
            "2.8.2\n"
          ]
        }
      ],
      "source": [
        "\n",
        "# Import libraries\n",
        "\n",
        "import tensorflow as tf\n",
        "print(tf.__version__)\n",
        "from tensorflow.keras.preprocessing.image import ImageDataGenerator\n",
        "from tensorflow.keras.models import Sequential\n",
        "from tensorflow.keras.layers import Activation, Dropout, Flatten, Dense, Conv2D, MaxPooling2D\n",
        "from tensorflow.keras.optimizers import Adam\n",
        "import numpy as np\n",
        "import matplotlib.pyplot as plt"
      ]
    },
    {
      "cell_type": "code",
      "source": [
        "from google.colab import drive\n",
        "drive.mount('/ShardDrives/',force_remount=True)"
      ],
      "metadata": {
        "id": "GpFfUVSjw7wu",
        "colab": {
          "base_uri": "https://localhost:8080/"
        },
        "outputId": "4010bfcf-2cc3-4d35-87bd-103c0ace584d"
      },
      "execution_count": 2,
      "outputs": [
        {
          "output_type": "stream",
          "name": "stdout",
          "text": [
            "Mounted at /ShardDrives/\n"
          ]
        }
      ]
    },
    {
      "cell_type": "code",
      "source": [
        "!nvidia-smi -L"
      ],
      "metadata": {
        "id": "517POz2ww2te",
        "colab": {
          "base_uri": "https://localhost:8080/"
        },
        "outputId": "d9d9470d-13ac-4f08-a761-ff66319dab8f"
      },
      "execution_count": 3,
      "outputs": [
        {
          "output_type": "stream",
          "name": "stdout",
          "text": [
            "GPU 0: Tesla T4 (UUID: GPU-1f4f1826-d772-757f-3ac0-4b5a303d851a)\n"
          ]
        }
      ]
    },
    {
      "cell_type": "code",
      "execution_count": 4,
      "metadata": {
        "id": "NJBq-t2vwt0Y"
      },
      "outputs": [],
      "source": [
        "# re-size all the images to this\n",
        "IMAGE_SIZE = [224, 224]\n",
        "\n",
        "train_path = '/ShardDrives/MyDrive/ds/train'\n",
        "valid_path = '/ShardDrives/MyDrive/ds/test'\n",
        "\n",
        "# Normalize your data\n",
        "\n",
        "train_datagen = ImageDataGenerator(shear_range = 0.2,\n",
        "                                   zoom_range = 0.2,\n",
        "                                   horizontal_flip = True)\n",
        "val_datagen = ImageDataGenerator(shear_range = 0.2,\n",
        "                                   zoom_range = 0.2,\n",
        "                                   horizontal_flip = True)\n",
        "\n",
        "target_size = (224,224)"
      ]
    },
    {
      "cell_type": "code",
      "execution_count": 5,
      "metadata": {
        "id": "Sf8-YPddwt0Y",
        "colab": {
          "base_uri": "https://localhost:8080/"
        },
        "outputId": "a054bb67-6904-41ef-e68e-db4f59032fc4"
      },
      "outputs": [
        {
          "output_type": "stream",
          "name": "stdout",
          "text": [
            "Found 7068 images belonging to 3 classes.\n"
          ]
        }
      ],
      "source": [
        "# Generate batches of tensor image data for training\n",
        "\n",
        "train_data_gen = train_datagen.flow_from_directory(train_path,\n",
        "                                               target_size=target_size,\n",
        "                                               batch_size=32,\n",
        "                                               class_mode='categorical')"
      ]
    },
    {
      "cell_type": "code",
      "execution_count": 6,
      "metadata": {
        "id": "8kFtJHrzwt0Z",
        "colab": {
          "base_uri": "https://localhost:8080/"
        },
        "outputId": "8b780e09-3f5d-43fc-82af-2a6b28591399"
      },
      "outputs": [
        {
          "output_type": "stream",
          "name": "stdout",
          "text": [
            "Found 771 images belonging to 3 classes.\n"
          ]
        }
      ],
      "source": [
        "# Generate batches of tensor image data for validation\n",
        "\n",
        "val_data_gen = val_datagen.flow_from_directory(valid_path,\n",
        "                                               target_size=target_size,\n",
        "                                               batch_size=32,\n",
        "                                               class_mode='categorical',\n",
        "                                               shuffle=False)"
      ]
    },
    {
      "cell_type": "code",
      "execution_count": 7,
      "metadata": {
        "id": "GzzD3W6Qwt0a"
      },
      "outputs": [],
      "source": [
        "# Filter warnings\n",
        "\n",
        "import warnings\n",
        "warnings.filterwarnings('ignore')"
      ]
    },
    {
      "cell_type": "code",
      "execution_count": 8,
      "metadata": {
        "scrolled": false,
        "id": "_PaDyYPqwt0a",
        "colab": {
          "base_uri": "https://localhost:8080/",
          "height": 1000
        },
        "outputId": "fcf2bff1-8085-40c0-d125-9e105762f45b"
      },
      "outputs": [
        {
          "output_type": "stream",
          "name": "stdout",
          "text": [
            "{'b': 0, 'n': 1, 'v': 2}\n"
          ]
        },
        {
          "output_type": "stream",
          "name": "stderr",
          "text": [
            "Clipping input data to the valid range for imshow with RGB data ([0..1] for floats or [0..255] for integers).\n",
            "Clipping input data to the valid range for imshow with RGB data ([0..1] for floats or [0..255] for integers).\n",
            "Clipping input data to the valid range for imshow with RGB data ([0..1] for floats or [0..255] for integers).\n",
            "Clipping input data to the valid range for imshow with RGB data ([0..1] for floats or [0..255] for integers).\n",
            "Clipping input data to the valid range for imshow with RGB data ([0..1] for floats or [0..255] for integers).\n",
            "Clipping input data to the valid range for imshow with RGB data ([0..1] for floats or [0..255] for integers).\n",
            "Clipping input data to the valid range for imshow with RGB data ([0..1] for floats or [0..255] for integers).\n",
            "Clipping input data to the valid range for imshow with RGB data ([0..1] for floats or [0..255] for integers).\n",
            "Clipping input data to the valid range for imshow with RGB data ([0..1] for floats or [0..255] for integers).\n",
            "Clipping input data to the valid range for imshow with RGB data ([0..1] for floats or [0..255] for integers).\n",
            "Clipping input data to the valid range for imshow with RGB data ([0..1] for floats or [0..255] for integers).\n",
            "Clipping input data to the valid range for imshow with RGB data ([0..1] for floats or [0..255] for integers).\n",
            "Clipping input data to the valid range for imshow with RGB data ([0..1] for floats or [0..255] for integers).\n",
            "Clipping input data to the valid range for imshow with RGB data ([0..1] for floats or [0..255] for integers).\n",
            "Clipping input data to the valid range for imshow with RGB data ([0..1] for floats or [0..255] for integers).\n",
            "Clipping input data to the valid range for imshow with RGB data ([0..1] for floats or [0..255] for integers).\n"
          ]
        },
        {
          "output_type": "display_data",
          "data": {
            "text/plain": [
              "<Figure size 720x720 with 16 Axes>"
            ],
            "image/png": "[encoded data removed]"
          },
          "metadata": {
            "needs_background": "light"
          }
        }
      ],
      "source": [
        "# Visualize samples of training images\n",
        "\n",
        "class_labels = train_data_gen.class_indices\n",
        "print(class_labels)\n",
        "\n",
        "sample_training_images, labels = next(train_data_gen)\n",
        "\n",
        "def plotImages(images_arr, labels):\n",
        "    fig, axes = plt.subplots(4, 4, figsize=(10,10))\n",
        "    axes = axes.flatten()\n",
        "    for img, lbs, ax in zip( images_arr, labels, axes):\n",
        "        ax.imshow(img)\n",
        "        ax.set_title(lbs)\n",
        "        ax.axis('off')\n",
        "    plt.tight_layout()\n",
        "    plt.show()\n",
        "    \n",
        "plotImages(sample_training_images[:16], labels[:16])"
      ]
    },
    {
      "cell_type": "code",
      "execution_count": 9,
      "metadata": {
        "id": "xbfhNbAWwt0b"
      },
      "outputs": [],
      "source": [
        "# Import the Xception model\n",
        "\n",
        "from tensorflow.keras.applications.xception import Xception"
      ]
    },
    {
      "cell_type": "code",
      "execution_count": 10,
      "metadata": {
        "id": "p0N8_DV4wt0c",
        "colab": {
          "base_uri": "https://localhost:8080/"
        },
        "outputId": "a985ddf8-7e89-460f-ea12-909cd9cb5cd5"
      },
      "outputs": [
        {
          "output_type": "stream",
          "name": "stdout",
          "text": [
            "Downloading data from https://storage.googleapis.com/tensorflow/keras-applications/xception/xception_weights_tf_dim_ordering_tf_kernels_notop.h5\n",
            "83689472/83683744 [==============================] - 0s 0us/step\n",
            "83697664/83683744 [==============================] - 0s 0us/step\n"
          ]
        }
      ],
      "source": [
        "# Define your pre-trained model\n",
        "\n",
        "input_shape = (224,224,3)\n",
        "pretrained_model = Xception(input_shape = input_shape,\n",
        "                weights = 'imagenet',\n",
        "                \n",
        "                include_top = False)\n",
        "pretrained_model.trainable = False"
      ]
    },
    {
      "cell_type": "code",
      "execution_count": 11,
      "metadata": {
        "id": "WQy3mdwvwt0d"
      },
      "outputs": [],
      "source": [
        "# Make the last three layers trainable for fine-tuning\n",
        "\n",
        "for layer in pretrained_model.layers[:-3]:\n",
        "    layer.trainable = False"
      ]
    },
    {
      "cell_type": "code",
      "execution_count": 12,
      "metadata": {
        "id": "scM57meEwt0d",
        "colab": {
          "base_uri": "https://localhost:8080/"
        },
        "outputId": "f34f1424-1966-44c2-9c9f-2a56ff467a9a"
      },
      "outputs": [
        {
          "output_type": "stream",
          "name": "stdout",
          "text": [
            "Model: \"sequential\"\n",
            "_________________________________________________________________\n",
            " Layer (type)                Output Shape              Param #   \n",
            "=================================================================\n",
            " xception (Functional)       (None, 7, 7, 2048)        20861480  \n",
            "                                                                 \n",
            " flatten (Flatten)           (None, 100352)            0         \n",
            "                                                                 \n",
            " dense (Dense)               (None, 512)               51380736  \n",
            "                                                                 \n",
            " activation (Activation)     (None, 512)               0         \n",
            "                                                                 \n",
            " dropout (Dropout)           (None, 512)               0         \n",
            "                                                                 \n",
            " dense_1 (Dense)             (None, 3)                 1539      \n",
            "                                                                 \n",
            " activation_1 (Activation)   (None, 3)                 0         \n",
            "                                                                 \n",
            "=================================================================\n",
            "Total params: 72,243,755\n",
            "Trainable params: 51,382,275\n",
            "Non-trainable params: 20,861,480\n",
            "_________________________________________________________________\n"
          ]
        }
      ],
      "source": [
        "# Define your model\n",
        "\n",
        "model = Sequential()\n",
        "\n",
        "model.add(pretrained_model)\n",
        "\n",
        "model.add(Flatten())\n",
        "\n",
        "model.add(Dense(512))\n",
        "model.add(Activation('relu'))\n",
        "model.add(Dropout(0.5))\n",
        "\n",
        "model.add(Dense(3))\n",
        "model.add(Activation('softmax'))\n",
        "\n",
        "model.summary() "
      ]
    },
    {
      "cell_type": "code",
      "execution_count": 13,
      "metadata": {
        "id": "C9DxGq4cwt0e"
      },
      "outputs": [],
      "source": [
        "# Define early stopping and model checkpoint for optimizing epoch number and saving the best model\n",
        "\n",
        "from tensorflow.keras.callbacks import EarlyStopping\n",
        "from tensorflow.keras.callbacks import ModelCheckpoint\n",
        "\n",
        "es = EarlyStopping(monitor='val_loss', mode='min', verbose=1,\n",
        "patience=20)\n",
        "\n",
        "mc = ModelCheckpoint('covid_19_xception2.h5', monitor='val_accuracy', mode='max', verbose=1, save_best_only=True)"
      ]
    },
    {
      "cell_type": "code",
      "execution_count": 14,
      "metadata": {
        "scrolled": true,
        "id": "DkR7LBn0wt0f",
        "colab": {
          "base_uri": "https://localhost:8080/"
        },
        "outputId": "13616398-1b67-404f-ffe5-44dfa122917f"
      },
      "outputs": [
        {
          "output_type": "stream",
          "name": "stdout",
          "text": [
            "Epoch 1/100\n",
            "221/220 [==============================] - ETA: -2s - loss: 8.5314 - accuracy: 0.5764\n",
            "Epoch 1: val_accuracy improved from -inf to 0.60182, saving model to covid_19_xception2.h5\n",
            "220/220 [==============================] - 4674s 21s/step - loss: 8.5314 - accuracy: 0.5764 - val_loss: 0.8527 - val_accuracy: 0.6018\n",
            "Epoch 2/100\n",
            "221/220 [==============================] - ETA: 0s - loss: 0.8350 - accuracy: 0.6043\n",
            "Epoch 2: val_accuracy improved from 0.60182 to 0.67575, saving model to covid_19_xception2.h5\n",
            "220/220 [==============================] - 95s 431ms/step - loss: 0.8350 - accuracy: 0.6043 - val_loss: 0.7497 - val_accuracy: 0.6757\n",
            "Epoch 3/100\n",
            "221/220 [==============================] - ETA: 0s - loss: 0.8136 - accuracy: 0.5900\n",
            "Epoch 3: val_accuracy improved from 0.67575 to 0.67704, saving model to covid_19_xception2.h5\n",
            "220/220 [==============================] - 97s 438ms/step - loss: 0.8136 - accuracy: 0.5900 - val_loss: 0.8135 - val_accuracy: 0.6770\n",
            "Epoch 4/100\n",
            "221/220 [==============================] - ETA: 0s - loss: 0.7783 - accuracy: 0.6197\n",
            "Epoch 4: val_accuracy improved from 0.67704 to 0.75616, saving model to covid_19_xception2.h5\n",
            "220/220 [==============================] - 97s 440ms/step - loss: 0.7783 - accuracy: 0.6197 - val_loss: 0.6682 - val_accuracy: 0.7562\n",
            "Epoch 5/100\n",
            "221/220 [==============================] - ETA: 0s - loss: 0.7651 - accuracy: 0.6167\n",
            "Epoch 5: val_accuracy did not improve from 0.75616\n",
            "220/220 [==============================] - 94s 423ms/step - loss: 0.7651 - accuracy: 0.6167 - val_loss: 0.8843 - val_accuracy: 0.6965\n",
            "Epoch 6/100\n",
            "221/220 [==============================] - ETA: 0s - loss: 0.7562 - accuracy: 0.6095\n",
            "Epoch 6: val_accuracy did not improve from 0.75616\n",
            "220/220 [==============================] - 93s 421ms/step - loss: 0.7562 - accuracy: 0.6095 - val_loss: 0.8070 - val_accuracy: 0.7289\n",
            "Epoch 7/100\n",
            "221/220 [==============================] - ETA: 0s - loss: 0.7346 - accuracy: 0.6279\n",
            "Epoch 7: val_accuracy did not improve from 0.75616\n",
            "220/220 [==============================] - 93s 422ms/step - loss: 0.7346 - accuracy: 0.6279 - val_loss: 0.8560 - val_accuracy: 0.7173\n",
            "Epoch 8/100\n",
            "221/220 [==============================] - ETA: 0s - loss: 0.7322 - accuracy: 0.6310\n",
            "Epoch 8: val_accuracy did not improve from 0.75616\n",
            "220/220 [==============================] - 93s 420ms/step - loss: 0.7322 - accuracy: 0.6310 - val_loss: 0.7910 - val_accuracy: 0.7510\n",
            "Epoch 9/100\n",
            "221/220 [==============================] - ETA: 0s - loss: 0.7361 - accuracy: 0.6163\n",
            "Epoch 9: val_accuracy did not improve from 0.75616\n",
            "220/220 [==============================] - 93s 421ms/step - loss: 0.7361 - accuracy: 0.6163 - val_loss: 0.8998 - val_accuracy: 0.7289\n",
            "Epoch 10/100\n",
            "221/220 [==============================] - ETA: 0s - loss: 0.7077 - accuracy: 0.6327\n",
            "Epoch 10: val_accuracy improved from 0.75616 to 0.77562, saving model to covid_19_xception2.h5\n",
            "220/220 [==============================] - 94s 427ms/step - loss: 0.7077 - accuracy: 0.6327 - val_loss: 0.6578 - val_accuracy: 0.7756\n",
            "Epoch 11/100\n",
            "221/220 [==============================] - ETA: 0s - loss: 0.7190 - accuracy: 0.6239\n",
            "Epoch 11: val_accuracy did not improve from 0.77562\n",
            "220/220 [==============================] - 94s 425ms/step - loss: 0.7190 - accuracy: 0.6239 - val_loss: 0.8403 - val_accuracy: 0.7069\n",
            "Epoch 12/100\n",
            "221/220 [==============================] - ETA: 0s - loss: 0.7239 - accuracy: 0.6312\n",
            "Epoch 12: val_accuracy did not improve from 0.77562\n",
            "220/220 [==============================] - 93s 421ms/step - loss: 0.7239 - accuracy: 0.6312 - val_loss: 0.7431 - val_accuracy: 0.7211\n",
            "Epoch 13/100\n",
            "221/220 [==============================] - ETA: 0s - loss: 0.7134 - accuracy: 0.6326\n",
            "Epoch 13: val_accuracy did not improve from 0.77562\n",
            "220/220 [==============================] - 93s 420ms/step - loss: 0.7134 - accuracy: 0.6326 - val_loss: 0.7707 - val_accuracy: 0.6706\n",
            "Epoch 14/100\n",
            "221/220 [==============================] - ETA: 0s - loss: 0.7451 - accuracy: 0.6302\n",
            "Epoch 14: val_accuracy improved from 0.77562 to 0.77691, saving model to covid_19_xception2.h5\n",
            "220/220 [==============================] - 95s 428ms/step - loss: 0.7451 - accuracy: 0.6302 - val_loss: 0.7023 - val_accuracy: 0.7769\n",
            "Epoch 15/100\n",
            "221/220 [==============================] - ETA: 0s - loss: 0.7045 - accuracy: 0.6353\n",
            "Epoch 15: val_accuracy did not improve from 0.77691\n",
            "220/220 [==============================] - 93s 418ms/step - loss: 0.7045 - accuracy: 0.6353 - val_loss: 0.7487 - val_accuracy: 0.7173\n",
            "Epoch 16/100\n",
            "221/220 [==============================] - ETA: 0s - loss: 0.6932 - accuracy: 0.6361\n",
            "Epoch 16: val_accuracy did not improve from 0.77691\n",
            "220/220 [==============================] - 93s 420ms/step - loss: 0.6932 - accuracy: 0.6361 - val_loss: 0.6862 - val_accuracy: 0.7237\n",
            "Epoch 17/100\n",
            "221/220 [==============================] - ETA: 0s - loss: 0.7132 - accuracy: 0.6285\n",
            "Epoch 17: val_accuracy did not improve from 0.77691\n",
            "220/220 [==============================] - 93s 419ms/step - loss: 0.7132 - accuracy: 0.6285 - val_loss: 0.6643 - val_accuracy: 0.7691\n",
            "Epoch 18/100\n",
            "221/220 [==============================] - ETA: 0s - loss: 0.6989 - accuracy: 0.6558\n",
            "Epoch 18: val_accuracy improved from 0.77691 to 0.80545, saving model to covid_19_xception2.h5\n",
            "220/220 [==============================] - 97s 439ms/step - loss: 0.6989 - accuracy: 0.6558 - val_loss: 0.6321 - val_accuracy: 0.8054\n",
            "Epoch 19/100\n",
            "221/220 [==============================] - ETA: 0s - loss: 0.6778 - accuracy: 0.6669\n",
            "Epoch 19: val_accuracy did not improve from 0.80545\n",
            "220/220 [==============================] - 93s 420ms/step - loss: 0.6778 - accuracy: 0.6669 - val_loss: 0.8371 - val_accuracy: 0.7665\n",
            "Epoch 20/100\n",
            "221/220 [==============================] - ETA: 0s - loss: 0.6892 - accuracy: 0.6512\n",
            "Epoch 20: val_accuracy did not improve from 0.80545\n",
            "220/220 [==============================] - 93s 419ms/step - loss: 0.6892 - accuracy: 0.6512 - val_loss: 0.7382 - val_accuracy: 0.7147\n",
            "Epoch 21/100\n",
            "221/220 [==============================] - ETA: 0s - loss: 0.6774 - accuracy: 0.6587\n",
            "Epoch 21: val_accuracy did not improve from 0.80545\n",
            "220/220 [==============================] - 93s 421ms/step - loss: 0.6774 - accuracy: 0.6587 - val_loss: 0.7333 - val_accuracy: 0.6706\n",
            "Epoch 22/100\n",
            "221/220 [==============================] - ETA: 0s - loss: 0.6842 - accuracy: 0.6671\n",
            "Epoch 22: val_accuracy did not improve from 0.80545\n",
            "220/220 [==============================] - 92s 418ms/step - loss: 0.6842 - accuracy: 0.6671 - val_loss: 0.7258 - val_accuracy: 0.6978\n",
            "Epoch 23/100\n",
            "221/220 [==============================] - ETA: 0s - loss: 0.6710 - accuracy: 0.6631\n",
            "Epoch 23: val_accuracy did not improve from 0.80545\n",
            "220/220 [==============================] - 93s 422ms/step - loss: 0.6710 - accuracy: 0.6631 - val_loss: 0.6821 - val_accuracy: 0.7095\n",
            "Epoch 24/100\n",
            "221/220 [==============================] - ETA: 0s - loss: 0.7057 - accuracy: 0.6232\n",
            "Epoch 24: val_accuracy did not improve from 0.80545\n",
            "220/220 [==============================] - 93s 421ms/step - loss: 0.7057 - accuracy: 0.6232 - val_loss: 0.7958 - val_accuracy: 0.6654\n",
            "Epoch 25/100\n",
            "221/220 [==============================] - ETA: 0s - loss: 0.6804 - accuracy: 0.6597\n",
            "Epoch 25: val_accuracy did not improve from 0.80545\n",
            "220/220 [==============================] - 93s 420ms/step - loss: 0.6804 - accuracy: 0.6597 - val_loss: 0.8445 - val_accuracy: 0.7315\n",
            "Epoch 26/100\n",
            "221/220 [==============================] - ETA: 0s - loss: 0.6709 - accuracy: 0.6696\n",
            "Epoch 26: val_accuracy did not improve from 0.80545\n",
            "220/220 [==============================] - 93s 421ms/step - loss: 0.6709 - accuracy: 0.6696 - val_loss: 0.7692 - val_accuracy: 0.7613\n",
            "Epoch 27/100\n",
            "221/220 [==============================] - ETA: 0s - loss: 0.6549 - accuracy: 0.6730\n",
            "Epoch 27: val_accuracy did not improve from 0.80545\n",
            "220/220 [==============================] - 93s 419ms/step - loss: 0.6549 - accuracy: 0.6730 - val_loss: 0.6980 - val_accuracy: 0.7886\n",
            "Epoch 28/100\n",
            "221/220 [==============================] - ETA: 0s - loss: 0.6599 - accuracy: 0.6750\n",
            "Epoch 28: val_accuracy did not improve from 0.80545\n",
            "220/220 [==============================] - 93s 419ms/step - loss: 0.6599 - accuracy: 0.6750 - val_loss: 0.6504 - val_accuracy: 0.7445\n",
            "Epoch 29/100\n",
            "221/220 [==============================] - ETA: 0s - loss: 0.6380 - accuracy: 0.6790\n",
            "Epoch 29: val_accuracy did not improve from 0.80545\n",
            "220/220 [==============================] - 93s 419ms/step - loss: 0.6380 - accuracy: 0.6790 - val_loss: 0.6405 - val_accuracy: 0.7808\n",
            "Epoch 30/100\n",
            "221/220 [==============================] - ETA: 0s - loss: 0.6554 - accuracy: 0.6715\n",
            "Epoch 30: val_accuracy did not improve from 0.80545\n",
            "220/220 [==============================] - 93s 419ms/step - loss: 0.6554 - accuracy: 0.6715 - val_loss: 0.6323 - val_accuracy: 0.7717\n",
            "Epoch 31/100\n",
            "221/220 [==============================] - ETA: 0s - loss: 0.6493 - accuracy: 0.6702\n",
            "Epoch 31: val_accuracy did not improve from 0.80545\n",
            "220/220 [==============================] - 93s 422ms/step - loss: 0.6493 - accuracy: 0.6702 - val_loss: 0.7696 - val_accuracy: 0.7730\n",
            "Epoch 32/100\n",
            "221/220 [==============================] - ETA: 0s - loss: 0.6431 - accuracy: 0.6746\n",
            "Epoch 32: val_accuracy did not improve from 0.80545\n",
            "220/220 [==============================] - 93s 419ms/step - loss: 0.6431 - accuracy: 0.6746 - val_loss: 0.7337 - val_accuracy: 0.7315\n",
            "Epoch 33/100\n",
            "221/220 [==============================] - ETA: 0s - loss: 0.6407 - accuracy: 0.6766\n",
            "Epoch 33: val_accuracy did not improve from 0.80545\n",
            "220/220 [==============================] - 93s 419ms/step - loss: 0.6407 - accuracy: 0.6766 - val_loss: 0.5953 - val_accuracy: 0.8016\n",
            "Epoch 34/100\n",
            "221/220 [==============================] - ETA: 0s - loss: 0.6447 - accuracy: 0.6800\n",
            "Epoch 34: val_accuracy did not improve from 0.80545\n",
            "220/220 [==============================] - 93s 419ms/step - loss: 0.6447 - accuracy: 0.6800 - val_loss: 0.6041 - val_accuracy: 0.7860\n",
            "Epoch 35/100\n",
            "221/220 [==============================] - ETA: 0s - loss: 0.6354 - accuracy: 0.6882\n",
            "Epoch 35: val_accuracy did not improve from 0.80545\n",
            "220/220 [==============================] - 93s 420ms/step - loss: 0.6354 - accuracy: 0.6882 - val_loss: 0.7711 - val_accuracy: 0.7134\n",
            "Epoch 36/100\n",
            "221/220 [==============================] - ETA: 0s - loss: 0.6276 - accuracy: 0.6935\n",
            "Epoch 36: val_accuracy did not improve from 0.80545\n",
            "220/220 [==============================] - 93s 419ms/step - loss: 0.6276 - accuracy: 0.6935 - val_loss: 0.7258 - val_accuracy: 0.7743\n",
            "Epoch 37/100\n",
            "221/220 [==============================] - ETA: 0s - loss: 0.6303 - accuracy: 0.6938\n",
            "Epoch 37: val_accuracy did not improve from 0.80545\n",
            "220/220 [==============================] - 93s 420ms/step - loss: 0.6303 - accuracy: 0.6938 - val_loss: 0.7030 - val_accuracy: 0.7289\n",
            "Epoch 38/100\n",
            "221/220 [==============================] - ETA: 0s - loss: 0.6297 - accuracy: 0.6961\n",
            "Epoch 38: val_accuracy did not improve from 0.80545\n",
            "220/220 [==============================] - 94s 423ms/step - loss: 0.6297 - accuracy: 0.6961 - val_loss: 0.7199 - val_accuracy: 0.7549\n",
            "Epoch 39/100\n",
            "221/220 [==============================] - ETA: 0s - loss: 0.6294 - accuracy: 0.6889\n",
            "Epoch 39: val_accuracy did not improve from 0.80545\n",
            "220/220 [==============================] - 92s 418ms/step - loss: 0.6294 - accuracy: 0.6889 - val_loss: 0.6223 - val_accuracy: 0.7691\n",
            "Epoch 40/100\n",
            "221/220 [==============================] - ETA: 0s - loss: 0.6290 - accuracy: 0.6947\n",
            "Epoch 40: val_accuracy did not improve from 0.80545\n",
            "220/220 [==============================] - 93s 422ms/step - loss: 0.6290 - accuracy: 0.6947 - val_loss: 0.6263 - val_accuracy: 0.7860\n",
            "Epoch 41/100\n",
            "221/220 [==============================] - ETA: 0s - loss: 0.6230 - accuracy: 0.6992\n",
            "Epoch 41: val_accuracy did not improve from 0.80545\n",
            "220/220 [==============================] - 93s 419ms/step - loss: 0.6230 - accuracy: 0.6992 - val_loss: 0.6765 - val_accuracy: 0.7717\n",
            "Epoch 42/100\n",
            "221/220 [==============================] - ETA: 0s - loss: 0.6144 - accuracy: 0.6974\n",
            "Epoch 42: val_accuracy did not improve from 0.80545\n",
            "220/220 [==============================] - 93s 420ms/step - loss: 0.6144 - accuracy: 0.6974 - val_loss: 0.7116 - val_accuracy: 0.7497\n",
            "Epoch 43/100\n",
            "221/220 [==============================] - ETA: 0s - loss: 0.6245 - accuracy: 0.6960\n",
            "Epoch 43: val_accuracy did not improve from 0.80545\n",
            "220/220 [==============================] - 93s 421ms/step - loss: 0.6245 - accuracy: 0.6960 - val_loss: 0.6629 - val_accuracy: 0.7873\n",
            "Epoch 44/100\n",
            "221/220 [==============================] - ETA: 0s - loss: 0.6186 - accuracy: 0.7002\n",
            "Epoch 44: val_accuracy did not improve from 0.80545\n",
            "220/220 [==============================] - 93s 419ms/step - loss: 0.6186 - accuracy: 0.7002 - val_loss: 0.6124 - val_accuracy: 0.7925\n",
            "Epoch 45/100\n",
            "221/220 [==============================] - ETA: 0s - loss: 0.6254 - accuracy: 0.7049\n",
            "Epoch 45: val_accuracy did not improve from 0.80545\n",
            "220/220 [==============================] - 93s 419ms/step - loss: 0.6254 - accuracy: 0.7049 - val_loss: 0.7299 - val_accuracy: 0.7860\n",
            "Epoch 46/100\n",
            "221/220 [==============================] - ETA: 0s - loss: 0.6185 - accuracy: 0.6981\n",
            "Epoch 46: val_accuracy did not improve from 0.80545\n",
            "220/220 [==============================] - 92s 417ms/step - loss: 0.6185 - accuracy: 0.6981 - val_loss: 0.7315 - val_accuracy: 0.7601\n",
            "Epoch 47/100\n",
            "221/220 [==============================] - ETA: 0s - loss: 0.6196 - accuracy: 0.6914\n",
            "Epoch 47: val_accuracy did not improve from 0.80545\n",
            "220/220 [==============================] - 93s 421ms/step - loss: 0.6196 - accuracy: 0.6914 - val_loss: 0.7777 - val_accuracy: 0.7704\n",
            "Epoch 48/100\n",
            "221/220 [==============================] - ETA: 0s - loss: 0.6347 - accuracy: 0.6988\n",
            "Epoch 48: val_accuracy did not improve from 0.80545\n",
            "220/220 [==============================] - 92s 418ms/step - loss: 0.6347 - accuracy: 0.6988 - val_loss: 0.6822 - val_accuracy: 0.7497\n",
            "Epoch 49/100\n",
            "221/220 [==============================] - ETA: 0s - loss: 0.6221 - accuracy: 0.7022\n",
            "Epoch 49: val_accuracy did not improve from 0.80545\n",
            "220/220 [==============================] - 92s 417ms/step - loss: 0.6221 - accuracy: 0.7022 - val_loss: 0.6236 - val_accuracy: 0.7886\n",
            "Epoch 50/100\n",
            "221/220 [==============================] - ETA: 0s - loss: 0.6234 - accuracy: 0.6960\n",
            "Epoch 50: val_accuracy did not improve from 0.80545\n",
            "220/220 [==============================] - 92s 418ms/step - loss: 0.6234 - accuracy: 0.6960 - val_loss: 0.7104 - val_accuracy: 0.7315\n",
            "Epoch 51/100\n",
            "221/220 [==============================] - ETA: 0s - loss: 0.6074 - accuracy: 0.7042\n",
            "Epoch 51: val_accuracy did not improve from 0.80545\n",
            "220/220 [==============================] - 95s 428ms/step - loss: 0.6074 - accuracy: 0.7042 - val_loss: 0.7311 - val_accuracy: 0.7743\n",
            "Epoch 52/100\n",
            "221/220 [==============================] - ETA: 0s - loss: 0.6100 - accuracy: 0.6988\n",
            "Epoch 52: val_accuracy did not improve from 0.80545\n",
            "220/220 [==============================] - 93s 420ms/step - loss: 0.6100 - accuracy: 0.6988 - val_loss: 0.7125 - val_accuracy: 0.7588\n",
            "Epoch 53/100\n",
            "221/220 [==============================] - ETA: 0s - loss: 0.6223 - accuracy: 0.6913\n",
            "Epoch 53: val_accuracy did not improve from 0.80545\n",
            "220/220 [==============================] - 92s 418ms/step - loss: 0.6223 - accuracy: 0.6913 - val_loss: 0.5829 - val_accuracy: 0.7990\n",
            "Epoch 54/100\n",
            "221/220 [==============================] - ETA: 0s - loss: 0.6089 - accuracy: 0.7008\n",
            "Epoch 54: val_accuracy did not improve from 0.80545\n",
            "220/220 [==============================] - 93s 420ms/step - loss: 0.6089 - accuracy: 0.7008 - val_loss: 0.7899 - val_accuracy: 0.7458\n",
            "Epoch 55/100\n",
            "221/220 [==============================] - ETA: 0s - loss: 0.6111 - accuracy: 0.7003\n",
            "Epoch 55: val_accuracy did not improve from 0.80545\n",
            "220/220 [==============================] - 92s 418ms/step - loss: 0.6111 - accuracy: 0.7003 - val_loss: 0.6205 - val_accuracy: 0.7652\n",
            "Epoch 56/100\n",
            "221/220 [==============================] - ETA: 0s - loss: 0.6223 - accuracy: 0.7013\n",
            "Epoch 56: val_accuracy did not improve from 0.80545\n",
            "220/220 [==============================] - 92s 417ms/step - loss: 0.6223 - accuracy: 0.7013 - val_loss: 0.7015 - val_accuracy: 0.7432\n",
            "Epoch 57/100\n",
            "221/220 [==============================] - ETA: 0s - loss: 0.6090 - accuracy: 0.7060\n",
            "Epoch 57: val_accuracy did not improve from 0.80545\n",
            "220/220 [==============================] - 93s 421ms/step - loss: 0.6090 - accuracy: 0.7060 - val_loss: 0.6681 - val_accuracy: 0.7821\n",
            "Epoch 58/100\n",
            "221/220 [==============================] - ETA: 0s - loss: 0.6054 - accuracy: 0.7030\n",
            "Epoch 58: val_accuracy did not improve from 0.80545\n",
            "220/220 [==============================] - 93s 420ms/step - loss: 0.6054 - accuracy: 0.7030 - val_loss: 0.6506 - val_accuracy: 0.7912\n",
            "Epoch 59/100\n",
            "221/220 [==============================] - ETA: 0s - loss: 0.5949 - accuracy: 0.7117\n",
            "Epoch 59: val_accuracy did not improve from 0.80545\n",
            "220/220 [==============================] - 93s 419ms/step - loss: 0.5949 - accuracy: 0.7117 - val_loss: 0.7664 - val_accuracy: 0.7432\n",
            "Epoch 60/100\n",
            "221/220 [==============================] - ETA: 0s - loss: 0.6210 - accuracy: 0.7012\n",
            "Epoch 60: val_accuracy did not improve from 0.80545\n",
            "220/220 [==============================] - 92s 417ms/step - loss: 0.6210 - accuracy: 0.7012 - val_loss: 0.6116 - val_accuracy: 0.7990\n",
            "Epoch 61/100\n",
            "221/220 [==============================] - ETA: 0s - loss: 0.6232 - accuracy: 0.6981\n",
            "Epoch 61: val_accuracy did not improve from 0.80545\n",
            "220/220 [==============================] - 93s 419ms/step - loss: 0.6232 - accuracy: 0.6981 - val_loss: 0.6227 - val_accuracy: 0.7704\n",
            "Epoch 62/100\n",
            "221/220 [==============================] - ETA: 0s - loss: 0.6127 - accuracy: 0.7032\n",
            "Epoch 62: val_accuracy improved from 0.80545 to 0.82361, saving model to covid_19_xception2.h5\n",
            "220/220 [==============================] - 94s 428ms/step - loss: 0.6127 - accuracy: 0.7032 - val_loss: 0.5426 - val_accuracy: 0.8236\n",
            "Epoch 63/100\n",
            "221/220 [==============================] - ETA: 0s - loss: 0.5988 - accuracy: 0.7189\n",
            "Epoch 63: val_accuracy did not improve from 0.82361\n",
            "220/220 [==============================] - 94s 424ms/step - loss: 0.5988 - accuracy: 0.7189 - val_loss: 0.6005 - val_accuracy: 0.7925\n",
            "Epoch 64/100\n",
            "221/220 [==============================] - ETA: 0s - loss: 0.5988 - accuracy: 0.7039\n",
            "Epoch 64: val_accuracy did not improve from 0.82361\n",
            "220/220 [==============================] - 95s 429ms/step - loss: 0.5988 - accuracy: 0.7039 - val_loss: 0.6311 - val_accuracy: 0.7808\n",
            "Epoch 65/100\n",
            "221/220 [==============================] - ETA: 0s - loss: 0.6144 - accuracy: 0.7022\n",
            "Epoch 65: val_accuracy did not improve from 0.82361\n",
            "220/220 [==============================] - 93s 420ms/step - loss: 0.6144 - accuracy: 0.7022 - val_loss: 0.7332 - val_accuracy: 0.7575\n",
            "Epoch 66/100\n",
            "221/220 [==============================] - ETA: 0s - loss: 0.6045 - accuracy: 0.7027\n",
            "Epoch 66: val_accuracy did not improve from 0.82361\n",
            "220/220 [==============================] - 93s 421ms/step - loss: 0.6045 - accuracy: 0.7027 - val_loss: 0.6357 - val_accuracy: 0.7795\n",
            "Epoch 67/100\n",
            "221/220 [==============================] - ETA: 0s - loss: 0.6045 - accuracy: 0.6984\n",
            "Epoch 67: val_accuracy did not improve from 0.82361\n",
            "220/220 [==============================] - 93s 420ms/step - loss: 0.6045 - accuracy: 0.6984 - val_loss: 0.6774 - val_accuracy: 0.7289\n",
            "Epoch 68/100\n",
            "221/220 [==============================] - ETA: 0s - loss: 0.6062 - accuracy: 0.7074\n",
            "Epoch 68: val_accuracy did not improve from 0.82361\n",
            "220/220 [==============================] - 93s 421ms/step - loss: 0.6062 - accuracy: 0.7074 - val_loss: 0.6523 - val_accuracy: 0.7782\n",
            "Epoch 69/100\n",
            "221/220 [==============================] - ETA: 0s - loss: 0.5905 - accuracy: 0.7138\n",
            "Epoch 69: val_accuracy did not improve from 0.82361\n",
            "220/220 [==============================] - 93s 419ms/step - loss: 0.5905 - accuracy: 0.7138 - val_loss: 0.7112 - val_accuracy: 0.6913\n",
            "Epoch 70/100\n",
            "221/220 [==============================] - ETA: 0s - loss: 0.6007 - accuracy: 0.7027\n",
            "Epoch 70: val_accuracy did not improve from 0.82361\n",
            "220/220 [==============================] - 92s 418ms/step - loss: 0.6007 - accuracy: 0.7027 - val_loss: 0.6462 - val_accuracy: 0.7523\n",
            "Epoch 71/100\n",
            "221/220 [==============================] - ETA: 0s - loss: 0.6102 - accuracy: 0.6960\n",
            "Epoch 71: val_accuracy did not improve from 0.82361\n",
            "220/220 [==============================] - 93s 421ms/step - loss: 0.6102 - accuracy: 0.6960 - val_loss: 0.6346 - val_accuracy: 0.7990\n",
            "Epoch 72/100\n",
            "221/220 [==============================] - ETA: 0s - loss: 0.5942 - accuracy: 0.7132\n",
            "Epoch 72: val_accuracy did not improve from 0.82361\n",
            "220/220 [==============================] - 92s 418ms/step - loss: 0.5942 - accuracy: 0.7132 - val_loss: 0.7207 - val_accuracy: 0.7925\n",
            "Epoch 73/100\n",
            "221/220 [==============================] - ETA: 0s - loss: 0.5835 - accuracy: 0.7169\n",
            "Epoch 73: val_accuracy did not improve from 0.82361\n",
            "220/220 [==============================] - 93s 421ms/step - loss: 0.5835 - accuracy: 0.7169 - val_loss: 0.7124 - val_accuracy: 0.7730\n",
            "Epoch 74/100\n",
            "221/220 [==============================] - ETA: 0s - loss: 0.5901 - accuracy: 0.7125\n",
            "Epoch 74: val_accuracy did not improve from 0.82361\n",
            "220/220 [==============================] - 93s 423ms/step - loss: 0.5901 - accuracy: 0.7125 - val_loss: 0.6365 - val_accuracy: 0.7639\n",
            "Epoch 75/100\n",
            "221/220 [==============================] - ETA: 0s - loss: 0.5975 - accuracy: 0.7076\n",
            "Epoch 75: val_accuracy did not improve from 0.82361\n",
            "220/220 [==============================] - 93s 421ms/step - loss: 0.5975 - accuracy: 0.7076 - val_loss: 0.6427 - val_accuracy: 0.7795\n",
            "Epoch 76/100\n",
            "221/220 [==============================] - ETA: 0s - loss: 0.6043 - accuracy: 0.7032\n",
            "Epoch 76: val_accuracy did not improve from 0.82361\n",
            "220/220 [==============================] - 93s 422ms/step - loss: 0.6043 - accuracy: 0.7032 - val_loss: 0.6467 - val_accuracy: 0.7341\n",
            "Epoch 77/100\n",
            "221/220 [==============================] - ETA: 0s - loss: 0.5948 - accuracy: 0.7037\n",
            "Epoch 77: val_accuracy did not improve from 0.82361\n",
            "220/220 [==============================] - 93s 420ms/step - loss: 0.5948 - accuracy: 0.7037 - val_loss: 0.5735 - val_accuracy: 0.7938\n",
            "Epoch 78/100\n",
            "221/220 [==============================] - ETA: 0s - loss: 0.5909 - accuracy: 0.7121\n",
            "Epoch 78: val_accuracy did not improve from 0.82361\n",
            "220/220 [==============================] - 93s 422ms/step - loss: 0.5909 - accuracy: 0.7121 - val_loss: 0.6275 - val_accuracy: 0.7873\n",
            "Epoch 79/100\n",
            "221/220 [==============================] - ETA: 0s - loss: 0.5952 - accuracy: 0.7125\n",
            "Epoch 79: val_accuracy did not improve from 0.82361\n",
            "220/220 [==============================] - 93s 419ms/step - loss: 0.5952 - accuracy: 0.7125 - val_loss: 0.7197 - val_accuracy: 0.7523\n",
            "Epoch 80/100\n",
            "221/220 [==============================] - ETA: 0s - loss: 0.5914 - accuracy: 0.7068\n",
            "Epoch 80: val_accuracy did not improve from 0.82361\n",
            "220/220 [==============================] - 93s 420ms/step - loss: 0.5914 - accuracy: 0.7068 - val_loss: 0.5705 - val_accuracy: 0.7990\n",
            "Epoch 81/100\n",
            "221/220 [==============================] - ETA: 0s - loss: 0.6051 - accuracy: 0.7085\n",
            "Epoch 81: val_accuracy did not improve from 0.82361\n",
            "220/220 [==============================] - 93s 421ms/step - loss: 0.6051 - accuracy: 0.7085 - val_loss: 0.5507 - val_accuracy: 0.7951\n",
            "Epoch 82/100\n",
            "221/220 [==============================] - ETA: 0s - loss: 0.5948 - accuracy: 0.7168\n",
            "Epoch 82: val_accuracy did not improve from 0.82361\n",
            "220/220 [==============================] - 93s 423ms/step - loss: 0.5948 - accuracy: 0.7168 - val_loss: 0.5938 - val_accuracy: 0.7912\n",
            "Epoch 82: early stopping\n"
          ]
        }
      ],
      "source": [
        "# Compile and fit your model\n",
        "\n",
        "model.compile(loss='categorical_crossentropy', optimizer=Adam(lr=0.0001), metrics=['accuracy'])\n",
        "\n",
        "epochs = 100\n",
        "history = model.fit_generator(train_data_gen,\n",
        "                              steps_per_epoch=train_data_gen.samples/train_data_gen.batch_size,\n",
        "                              epochs=epochs,\n",
        "                              validation_data=val_data_gen,\n",
        "                              validation_steps=val_data_gen.samples/val_data_gen.batch_size,\n",
        "                              callbacks=[es,mc] )"
      ]
    },
    {
      "cell_type": "code",
      "execution_count": 17,
      "metadata": {
        "id": "Vkde8RE6wt0f",
        "colab": {
          "base_uri": "https://localhost:8080/",
          "height": 284
        },
        "outputId": "55f31fd1-d815-45cc-fdc2-d767712c5287"
      },
      "outputs": [
        {
          "output_type": "display_data",
          "data": {
            "text/plain": [
              "<Figure size 864x288 with 2 Axes>"
            ],
            "image/png": "[encoded data removed]"
          },
          "metadata": {
            "needs_background": "light"
          }
        }
      ],
      "source": [
        "# Plot accuracy and loss for testing and validation\n",
        "\n",
        "acc = history.history['accuracy']\n",
        "val_acc = history.history['val_accuracy']\n",
        "\n",
        "loss = history.history['loss']\n",
        "val_loss = history.history['val_loss']\n",
        "\n",
        "plt.figure(figsize=(12, 4))\n",
        "plt.subplot(1, 2, 1)\n",
        "plt.plot(acc, label='Training Accuracy')\n",
        "plt.plot(val_acc, label='Validation Accuracy')\n",
        "plt.legend(loc='lower right')\n",
        "plt.ylabel('Accuracy Value')\n",
        "plt.xlabel('Epoch')\n",
        "plt.title('Training and Validation Accuracy')\n",
        "\n",
        "plt.subplot(1, 2, 2)\n",
        "plt.plot(loss, label='Training Loss')\n",
        "plt.plot(val_loss, label='Validation Loss')\n",
        "plt.legend(loc='upper right')\n",
        "plt.ylabel('Loss Value')\n",
        "plt.xlabel('Epoch')\n",
        "plt.title('Training and Validation Loss')\n",
        "plt.show()"
      ]
    },
    {
      "cell_type": "code",
      "execution_count": 18,
      "metadata": {
        "id": "oY95b8MEwt0g",
        "colab": {
          "base_uri": "https://localhost:8080/"
        },
        "outputId": "fe755dc5-a870-4b64-ed14-5d9f2a1caf71"
      },
      "outputs": [
        {
          "output_type": "stream",
          "name": "stdout",
          "text": [
            "{'b': 0, 'n': 1, 'v': 2}\n",
            "\n",
            "\n",
            "Confusion Matrix \n",
            "\n",
            "[[206   9  27]\n",
            " [  7 221  77]\n",
            " [ 22  10 192]]\n",
            "\n",
            "\n",
            "Classification Report \n",
            "\n",
            "              precision    recall  f1-score   support\n",
            "\n",
            "           0       0.88      0.85      0.86       242\n",
            "           1       0.92      0.72      0.81       305\n",
            "           2       0.65      0.86      0.74       224\n",
            "\n",
            "    accuracy                           0.80       771\n",
            "   macro avg       0.82      0.81      0.80       771\n",
            "weighted avg       0.83      0.80      0.81       771\n",
            "\n"
          ]
        }
      ],
      "source": [
        "# Evaluate your model with confusion matrix and classification report\n",
        "\n",
        "class_labels = train_data_gen.class_indices\n",
        "print(class_labels)\n",
        "print('\\n')\n",
        "\n",
        "from sklearn.metrics import classification_report, confusion_matrix\n",
        "Y_pred = model.predict_generator(val_data_gen, val_data_gen.samples // val_data_gen.batch_size+1)\n",
        "y_pred = np.argmax(Y_pred, axis=1)\n",
        "print('Confusion Matrix \\n')\n",
        "print(confusion_matrix(val_data_gen.classes, y_pred))\n",
        "print('\\n')\n",
        "print('Classification Report \\n')\n",
        "\n",
        "print(classification_report(val_data_gen.classes, y_pred))"
      ]
    },
    {
      "cell_type": "code",
      "source": [
        "import seaborn as sns\n",
        "cm=confusion_matrix(val_data_gen.classes, y_pred)\n",
        "ax=sns.heatmap(cm,annot=True,cmap='RdBu',fmt='g')\n",
        "ax.set_title('Confusion Matrix')\n",
        "ax.set_xlabel('Predicted ')\n",
        "ax.set_ylabel('Actual ')\n",
        "## For the Tick Labels, the labels should be in Alphabetical order\n",
        "ax.xaxis.set_ticklabels(['Bacterial','Normal', 'Viral'])\n",
        "ax.yaxis.set_ticklabels(['Bacterial','Normal', 'Viral'])\n",
        "plt.show()"
      ],
      "metadata": {
        "id": "g9nO-CJJxkHY",
        "colab": {
          "base_uri": "https://localhost:8080/",
          "height": 295
        },
        "outputId": "6a750036-19bd-42c6-dd9e-22c31bcd3915"
      },
      "execution_count": 19,
      "outputs": [
        {
          "output_type": "display_data",
          "data": {
            "text/plain": [
              "<Figure size 432x288 with 2 Axes>"
            ],
            "image/png": "[encoded data removed]"
          },
          "metadata": {
            "needs_background": "light"
          }
        }
      ]
    },
    {
      "cell_type": "code",
      "source": [
        ""
      ],
      "metadata": {
        "id": "HSDXC4iG9UU5"
      },
      "execution_count": null,
      "outputs": []
    },
    {
      "cell_type": "code",
      "source": [
        "import seaborn as sns\n",
        "ax=sns.heatmap(cm/np.sum(cm),annot=True,cmap='RdBu',fmt='.2%')\n",
        "ax.set_title('Confusion Matrix')\n",
        "ax.set_xlabel('Predicted ')\n",
        "ax.set_ylabel('Actual ')\n",
        "## For the Tick Labels, the labels should be in Alphabetical order\n",
        "ax.xaxis.set_ticklabels(['Bacterial','Normal', 'Viral'])\n",
        "ax.yaxis.set_ticklabels(['Bacterial','Normal', 'Viral'])\n",
        "plt.show()"
      ],
      "metadata": {
        "colab": {
          "base_uri": "https://localhost:8080/",
          "height": 295
        },
        "id": "L6-tL4Sp-b_h",
        "outputId": "bda770f1-4c17-4059-de8a-8f3f8ab3054a"
      },
      "execution_count": 21,
      "outputs": [
        {
          "output_type": "display_data",
          "data": {
            "text/plain": [
              "<Figure size 432x288 with 2 Axes>"
            ],
            "image/png": "[encoded data removed]"
          },
          "metadata": {
            "needs_background": "light"
          }
        }
      ]
    },
    {
      "cell_type": "code",
      "source": [
        "\n",
        "# save it as a h5 file\n",
        "\n",
        "\n",
        "from tensorflow.keras.models import load_model\n",
        "\n",
        "FLOW1_model=model.save('xception_001.h5')"
      ],
      "metadata": {
        "id": "RV3AqTSb9ty6"
      },
      "execution_count": 22,
      "outputs": []
    },
    {
      "cell_type": "code",
      "source": [
        "from sklearn.metrics import accuracy_score\n",
        "\n",
        "xception_acc = accuracy_score(val_data_gen.classes, y_pred)\n",
        "print(\"Xception Model Accuracy with Fine-Tuning: {:.2f}%\".format(xception_acc * 100))"
      ],
      "metadata": {
        "colab": {
          "base_uri": "https://localhost:8080/"
        },
        "id": "fubTj3Wc9Ufn",
        "outputId": "b1abcee6-bbb6-40e2-e706-cb4ab6269abe"
      },
      "execution_count": 29,
      "outputs": [
        {
          "output_type": "stream",
          "name": "stdout",
          "text": [
            "Xception Model Accuracy with Fine-Tuning: 80.29%\n"
          ]
        }
      ]
    },
    {
      "cell_type": "code",
      "source": [
        "from google.colab import files\n",
        "files.download(\"xception_001.h5\")"
      ],
      "metadata": {
        "colab": {
          "base_uri": "https://localhost:8080/",
          "height": 17
        },
        "id": "qq4inOTD-0B2",
        "outputId": "f7ed1157-a704-4f04-a54c-0eedfb106a32"
      },
      "execution_count": 28,
      "outputs": [
        {
          "output_type": "display_data",
          "data": {
            "text/plain": [
              "<IPython.core.display.Javascript object>"
            ],
            "application/javascript": [
              "\n",
              "    async function download(id, filename, size) {\n",
              "      if (!google.colab.kernel.accessAllowed) {\n",
              "        return;\n",
              "      }\n",
              "      const div = document.createElement('div');\n",
              "      const label = document.createElement('label');\n",
              "      label.textContent = `Downloading \"${filename}\": `;\n",
              "      div.appendChild(label);\n",
              "      const progress = document.createElement('progress');\n",
              "      progress.max = size;\n",
              "      div.appendChild(progress);\n",
              "      document.body.appendChild(div);\n",
              "\n",
              "      const buffers = [];\n",
              "      let downloaded = 0;\n",
              "\n",
              "      const channel = await google.colab.kernel.comms.open(id);\n",
              "      // Send a message to notify the kernel that we're ready.\n",
              "      channel.send({})\n",
              "\n",
              "      for await (const message of channel.messages) {\n",
              "        // Send a message to notify the kernel that we're ready.\n",
              "        channel.send({})\n",
              "        if (message.buffers) {\n",
              "          for (const buffer of message.buffers) {\n",
              "            buffers.push(buffer);\n",
              "            downloaded += buffer.byteLength;\n",
              "            progress.value = downloaded;\n",
              "          }\n",
              "        }\n",
              "      }\n",
              "      const blob = new Blob(buffers, {type: 'application/binary'});\n",
              "      const a = document.createElement('a');\n",
              "      a.href = window.URL.createObjectURL(blob);\n",
              "      a.download = filename;\n",
              "      div.appendChild(a);\n",
              "      a.click();\n",
              "      div.remove();\n",
              "    }\n",
              "  "
            ]
          },
          "metadata": {}
        },
        {
          "output_type": "display_data",
          "data": {
            "text/plain": [
              "<IPython.core.display.Javascript object>"
            ],
            "application/javascript": [
              "download(\"download_60b60719-d610-402d-a510-f9f1b90ebb90\", \"xception_001.h5\", 700314624)"
            ]
          },
          "metadata": {}
        }
      ]
    }
  ],
  "metadata": {
    "kernelspec": {
      "display_name": "Python 3.7 (tensorflow)",
      "language": "python",
      "name": "tensorflow"
    },
    "language_info": {
      "codemirror_mode": {
        "name": "ipython",
        "version": 3
      },
      "file_extension": ".py",
      "mimetype": "text/x-python",
      "name": "python",
      "nbconvert_exporter": "python",
      "pygments_lexer": "ipython3",
      "version": "3.7.6"
    },
    "colab": {
      "name": "xception_01.ipynb",
      "provenance": [],
      "machine_shape": "hm"
    },
    "accelerator": "GPU"
  },
  "nbformat": 4,
  "nbformat_minor": 0
}