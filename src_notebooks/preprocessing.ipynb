{
 "cells": [
  {
   "cell_type": "code",
   "execution_count": 1,
   "metadata": {},
   "outputs": [],
   "source": [
    "import cv2\n",
    "import glob\n",
    "import os\n",
    "import numpy as np\n",
    "\n",
    "inputFolder =\"C:/Users/ADMIN/Desktop/DataSet/val\"\n",
    "\n",
    "i=0\n",
    "\n",
    "for img in glob.glob(inputFolder + \"/*.jpeg\"):\n",
    "    image = cv2.imread(img)\n",
    "    image = np.array(image)\n",
    "    img = cv2.resize(image, (224, 224))\n",
    "    img = cv2.normalize(img, img, 0, 255, cv2.NORM_MINMAX)\n",
    "    cv2.imwrite(\"C:/Users/ADMIN/Desktop/ds/val/image%i.png\" %i, img)\n",
    "\n",
    "    i +=1\n",
    "    cv2.imshow('image', img)\n",
    "    cv2.waitKey(30)"
   ]
  },
  {
   "cell_type": "code",
   "execution_count": null,
   "metadata": {},
   "outputs": [],
   "source": []
  }
 ],
 "metadata": {
  "kernelspec": {
   "display_name": "Python 3",
   "language": "python",
   "name": "python3"
  },
  "language_info": {
   "codemirror_mode": {
    "name": "ipython",
    "version": 3
   },
   "file_extension": ".py",
   "mimetype": "text/x-python",
   "name": "python",
   "nbconvert_exporter": "python",
   "pygments_lexer": "ipython3",
   "version": "3.7.6"
  }
 },
 "nbformat": 4,
 "nbformat_minor": 4
}
